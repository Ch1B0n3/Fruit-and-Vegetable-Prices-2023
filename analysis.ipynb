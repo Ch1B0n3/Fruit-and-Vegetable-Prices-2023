{
 "cells": [
  {
   "cell_type": "markdown",
   "metadata": {},
   "source": [
    "## Setup:"
   ]
  },
  {
   "cell_type": "code",
   "execution_count": 24,
   "metadata": {},
   "outputs": [],
   "source": [
    "# Setting up the environment\n",
    "import numpy as np\n",
    "import pandas as pd\n",
    "import matplotlib.pyplot as plt\n",
    "%matplotlib inline\n",
    "from IPython.core.interactiveshell import InteractiveShell\n",
    "InteractiveShell.ast_node_interactivity = \"all\"\n"
   ]
  },
  {
   "cell_type": "markdown",
   "metadata": {},
   "source": [
    "## Acknowledgements:\n",
    "\n",
    "* According to the lastest *Dietary Guidlines* for Americans 2020-2025, calorie needs vary based on many factors. See the full report [here](https://www.dietaryguidelines.gov/sites/default/files/2020-12/Dietary_Guidelines_for_Americans_2020-2025.pdf).\n",
    "\n",
    "* For the simplicity of this analysis, recommendations on how to achieve a healthy diet is based on an average of 2,000 calories needs, consists of *2.5 cups vegetables and 2 cup fruits*.\n",
    "\n",
    "* For many fruits and vegetables, a 1-cup equivalent equals the weight of enough edible portion (e.g., minus pits or peels) to fill a measuring cup. But not always. Some foods are more concentrated, and some are more airy or contain more water. A cup equivalent for lettuce and other raw leafy vegetables is 2 cups; for raisins and other dried fruits, it is one-half cup.\n",
    "\n",
    "* Questions to be answered by examining the quantity and variety of fruits and vegetables that a household can afford with a limited budget: Are 2023 food prices a barrier to eating a healthy diet?"
   ]
  },
  {
   "cell_type": "markdown",
   "metadata": {},
   "source": [
    "## Installation:"
   ]
  },
  {
   "cell_type": "code",
   "execution_count": 5,
   "metadata": {},
   "outputs": [],
   "source": [
    "# Read fruits and vegetables spreadsheets\n",
    "df_fruits = pd.read_csv(\"/Users/chichi/Desktop/WIP/fruit_and_veg_prices/fruit-2020/Fruit Prices 2020.csv\")\n",
    "df_vegetables = pd.read_csv(\"/Users/chichi/Desktop/WIP/fruit_and_veg_prices/vegetables-2020/Vegetable Prices 2020.csv\")"
   ]
  },
  {
   "cell_type": "markdown",
   "metadata": {},
   "source": [
    "### Exploring the data"
   ]
  },
  {
   "cell_type": "code",
   "execution_count": 12,
   "metadata": {},
   "outputs": [
    {
     "data": {
      "text/html": [
       "<div>\n",
       "<style scoped>\n",
       "    .dataframe tbody tr th:only-of-type {\n",
       "        vertical-align: middle;\n",
       "    }\n",
       "\n",
       "    .dataframe tbody tr th {\n",
       "        vertical-align: top;\n",
       "    }\n",
       "\n",
       "    .dataframe thead th {\n",
       "        text-align: right;\n",
       "    }\n",
       "</style>\n",
       "<table border=\"1\" class=\"dataframe\">\n",
       "  <thead>\n",
       "    <tr style=\"text-align: right;\">\n",
       "      <th></th>\n",
       "      <th>Fruit</th>\n",
       "      <th>Form</th>\n",
       "      <th>RetailPrice</th>\n",
       "      <th>RetailPriceUnit</th>\n",
       "      <th>Yield</th>\n",
       "      <th>CupEquivalentSize</th>\n",
       "      <th>CupEquivalentUnit</th>\n",
       "      <th>CupEquivalentPrice</th>\n",
       "    </tr>\n",
       "  </thead>\n",
       "  <tbody>\n",
       "    <tr>\n",
       "      <th>0</th>\n",
       "      <td>Apples</td>\n",
       "      <td>Fresh</td>\n",
       "      <td>1.52</td>\n",
       "      <td>per pound</td>\n",
       "      <td>0.90</td>\n",
       "      <td>0.24</td>\n",
       "      <td>pounds</td>\n",
       "      <td>0.41</td>\n",
       "    </tr>\n",
       "    <tr>\n",
       "      <th>1</th>\n",
       "      <td>Apples, applesauce</td>\n",
       "      <td>Canned</td>\n",
       "      <td>1.07</td>\n",
       "      <td>per pound</td>\n",
       "      <td>1.00</td>\n",
       "      <td>0.54</td>\n",
       "      <td>pounds</td>\n",
       "      <td>0.58</td>\n",
       "    </tr>\n",
       "    <tr>\n",
       "      <th>2</th>\n",
       "      <td>Apples, ready-to-drink</td>\n",
       "      <td>Juice</td>\n",
       "      <td>0.78</td>\n",
       "      <td>per pint</td>\n",
       "      <td>1.00</td>\n",
       "      <td>8.00</td>\n",
       "      <td>fluid ounces</td>\n",
       "      <td>0.39</td>\n",
       "    </tr>\n",
       "    <tr>\n",
       "      <th>3</th>\n",
       "      <td>Apples, frozen concentrate</td>\n",
       "      <td>Juice</td>\n",
       "      <td>0.59</td>\n",
       "      <td>per pint</td>\n",
       "      <td>1.00</td>\n",
       "      <td>8.00</td>\n",
       "      <td>fluid ounces</td>\n",
       "      <td>0.29</td>\n",
       "    </tr>\n",
       "    <tr>\n",
       "      <th>4</th>\n",
       "      <td>Apricots</td>\n",
       "      <td>Fresh</td>\n",
       "      <td>2.97</td>\n",
       "      <td>per pound</td>\n",
       "      <td>0.93</td>\n",
       "      <td>0.36</td>\n",
       "      <td>pounds</td>\n",
       "      <td>1.16</td>\n",
       "    </tr>\n",
       "  </tbody>\n",
       "</table>\n",
       "</div>"
      ],
      "text/plain": [
       "                        Fruit    Form  RetailPrice RetailPriceUnit  Yield  \\\n",
       "0                      Apples   Fresh         1.52       per pound   0.90   \n",
       "1          Apples, applesauce  Canned         1.07       per pound   1.00   \n",
       "2      Apples, ready-to-drink   Juice         0.78        per pint   1.00   \n",
       "3  Apples, frozen concentrate   Juice         0.59        per pint   1.00   \n",
       "4                    Apricots   Fresh         2.97       per pound   0.93   \n",
       "\n",
       "   CupEquivalentSize CupEquivalentUnit  CupEquivalentPrice  \n",
       "0               0.24            pounds                0.41  \n",
       "1               0.54            pounds                0.58  \n",
       "2               8.00      fluid ounces                0.39  \n",
       "3               8.00      fluid ounces                0.29  \n",
       "4               0.36            pounds                1.16  "
      ]
     },
     "execution_count": 12,
     "metadata": {},
     "output_type": "execute_result"
    },
    {
     "name": "stdout",
     "output_type": "stream",
     "text": [
      "<class 'pandas.core.frame.DataFrame'>\n",
      "RangeIndex: 62 entries, 0 to 61\n",
      "Data columns (total 8 columns):\n",
      " #   Column              Non-Null Count  Dtype  \n",
      "---  ------              --------------  -----  \n",
      " 0   Fruit               62 non-null     object \n",
      " 1   Form                62 non-null     object \n",
      " 2   RetailPrice         62 non-null     float64\n",
      " 3   RetailPriceUnit     62 non-null     object \n",
      " 4   Yield               62 non-null     float64\n",
      " 5   CupEquivalentSize   62 non-null     float64\n",
      " 6   CupEquivalentUnit   62 non-null     object \n",
      " 7   CupEquivalentPrice  62 non-null     float64\n",
      "dtypes: float64(4), object(4)\n",
      "memory usage: 4.0+ KB\n"
     ]
    },
    {
     "data": {
      "text/html": [
       "<div>\n",
       "<style scoped>\n",
       "    .dataframe tbody tr th:only-of-type {\n",
       "        vertical-align: middle;\n",
       "    }\n",
       "\n",
       "    .dataframe tbody tr th {\n",
       "        vertical-align: top;\n",
       "    }\n",
       "\n",
       "    .dataframe thead th {\n",
       "        text-align: right;\n",
       "    }\n",
       "</style>\n",
       "<table border=\"1\" class=\"dataframe\">\n",
       "  <thead>\n",
       "    <tr style=\"text-align: right;\">\n",
       "      <th></th>\n",
       "      <th>RetailPrice</th>\n",
       "      <th>Yield</th>\n",
       "      <th>CupEquivalentSize</th>\n",
       "      <th>CupEquivalentPrice</th>\n",
       "    </tr>\n",
       "  </thead>\n",
       "  <tbody>\n",
       "    <tr>\n",
       "      <th>count</th>\n",
       "      <td>62.00</td>\n",
       "      <td>62.00</td>\n",
       "      <td>62.00</td>\n",
       "      <td>62.00</td>\n",
       "    </tr>\n",
       "    <tr>\n",
       "      <th>mean</th>\n",
       "      <td>2.62</td>\n",
       "      <td>0.88</td>\n",
       "      <td>1.70</td>\n",
       "      <td>0.92</td>\n",
       "    </tr>\n",
       "    <tr>\n",
       "      <th>std</th>\n",
       "      <td>2.07</td>\n",
       "      <td>0.17</td>\n",
       "      <td>2.95</td>\n",
       "      <td>0.49</td>\n",
       "    </tr>\n",
       "    <tr>\n",
       "      <th>min</th>\n",
       "      <td>0.36</td>\n",
       "      <td>0.46</td>\n",
       "      <td>0.12</td>\n",
       "      <td>0.23</td>\n",
       "    </tr>\n",
       "    <tr>\n",
       "      <th>25%</th>\n",
       "      <td>1.15</td>\n",
       "      <td>0.72</td>\n",
       "      <td>0.32</td>\n",
       "      <td>0.58</td>\n",
       "    </tr>\n",
       "    <tr>\n",
       "      <th>50%</th>\n",
       "      <td>1.87</td>\n",
       "      <td>0.98</td>\n",
       "      <td>0.36</td>\n",
       "      <td>0.90</td>\n",
       "    </tr>\n",
       "    <tr>\n",
       "      <th>75%</th>\n",
       "      <td>3.53</td>\n",
       "      <td>1.00</td>\n",
       "      <td>0.54</td>\n",
       "      <td>1.15</td>\n",
       "    </tr>\n",
       "    <tr>\n",
       "      <th>max</th>\n",
       "      <td>10.55</td>\n",
       "      <td>1.00</td>\n",
       "      <td>8.00</td>\n",
       "      <td>3.07</td>\n",
       "    </tr>\n",
       "  </tbody>\n",
       "</table>\n",
       "</div>"
      ],
      "text/plain": [
       "       RetailPrice  Yield  CupEquivalentSize  CupEquivalentPrice\n",
       "count        62.00  62.00              62.00               62.00\n",
       "mean          2.62   0.88               1.70                0.92\n",
       "std           2.07   0.17               2.95                0.49\n",
       "min           0.36   0.46               0.12                0.23\n",
       "25%           1.15   0.72               0.32                0.58\n",
       "50%           1.87   0.98               0.36                0.90\n",
       "75%           3.53   1.00               0.54                1.15\n",
       "max          10.55   1.00               8.00                3.07"
      ]
     },
     "execution_count": 12,
     "metadata": {},
     "output_type": "execute_result"
    },
    {
     "data": {
      "text/html": [
       "<div>\n",
       "<style scoped>\n",
       "    .dataframe tbody tr th:only-of-type {\n",
       "        vertical-align: middle;\n",
       "    }\n",
       "\n",
       "    .dataframe tbody tr th {\n",
       "        vertical-align: top;\n",
       "    }\n",
       "\n",
       "    .dataframe thead th {\n",
       "        text-align: right;\n",
       "    }\n",
       "</style>\n",
       "<table border=\"1\" class=\"dataframe\">\n",
       "  <thead>\n",
       "    <tr style=\"text-align: right;\">\n",
       "      <th></th>\n",
       "      <th>Fruit</th>\n",
       "      <th>Form</th>\n",
       "      <th>RetailPrice</th>\n",
       "      <th>RetailPriceUnit</th>\n",
       "      <th>Yield</th>\n",
       "      <th>CupEquivalentSize</th>\n",
       "      <th>CupEquivalentUnit</th>\n",
       "      <th>CupEquivalentPrice</th>\n",
       "    </tr>\n",
       "  </thead>\n",
       "  <tbody>\n",
       "  </tbody>\n",
       "</table>\n",
       "</div>"
      ],
      "text/plain": [
       "Empty DataFrame\n",
       "Columns: [Fruit, Form, RetailPrice, RetailPriceUnit, Yield, CupEquivalentSize, CupEquivalentUnit, CupEquivalentPrice]\n",
       "Index: []"
      ]
     },
     "execution_count": 12,
     "metadata": {},
     "output_type": "execute_result"
    }
   ],
   "source": [
    "# Fruit data\n",
    "df_fruits = df_fruits.round(2)\n",
    "df_fruits.head(5)\n",
    "df_fruits.info()\n",
    "df_fruits.describe().round(2)\n",
    "df_fruits[df_fruits.duplicated()]"
   ]
  },
  {
   "cell_type": "markdown",
   "metadata": {},
   "source": [
    "There's no missing or invalid values. Data contains 62 types of fruits, recorded with cup equivalent size and price.\n",
    "Fruits cost ranged from 23 cents to $3.07 per cup equivalent."
   ]
  },
  {
   "cell_type": "code",
   "execution_count": 13,
   "metadata": {},
   "outputs": [
    {
     "data": {
      "text/html": [
       "<div>\n",
       "<style scoped>\n",
       "    .dataframe tbody tr th:only-of-type {\n",
       "        vertical-align: middle;\n",
       "    }\n",
       "\n",
       "    .dataframe tbody tr th {\n",
       "        vertical-align: top;\n",
       "    }\n",
       "\n",
       "    .dataframe thead th {\n",
       "        text-align: right;\n",
       "    }\n",
       "</style>\n",
       "<table border=\"1\" class=\"dataframe\">\n",
       "  <thead>\n",
       "    <tr style=\"text-align: right;\">\n",
       "      <th></th>\n",
       "      <th>Vegetable</th>\n",
       "      <th>Form</th>\n",
       "      <th>RetailPrice</th>\n",
       "      <th>RetailPriceUnit</th>\n",
       "      <th>Yield</th>\n",
       "      <th>CupEquivalentSize</th>\n",
       "      <th>CupEquivalentUnit</th>\n",
       "      <th>CupEquivalentPrice</th>\n",
       "    </tr>\n",
       "  </thead>\n",
       "  <tbody>\n",
       "    <tr>\n",
       "      <th>0</th>\n",
       "      <td>Acorn squash</td>\n",
       "      <td>Fresh</td>\n",
       "      <td>1.18</td>\n",
       "      <td>per pound</td>\n",
       "      <td>0.46</td>\n",
       "      <td>0.45</td>\n",
       "      <td>pounds</td>\n",
       "      <td>1.16</td>\n",
       "    </tr>\n",
       "    <tr>\n",
       "      <th>1</th>\n",
       "      <td>Artichoke</td>\n",
       "      <td>Fresh</td>\n",
       "      <td>2.19</td>\n",
       "      <td>per pound</td>\n",
       "      <td>0.38</td>\n",
       "      <td>0.39</td>\n",
       "      <td>pounds</td>\n",
       "      <td>2.25</td>\n",
       "    </tr>\n",
       "    <tr>\n",
       "      <th>2</th>\n",
       "      <td>Artichoke</td>\n",
       "      <td>Canned</td>\n",
       "      <td>3.41</td>\n",
       "      <td>per pound</td>\n",
       "      <td>0.65</td>\n",
       "      <td>0.39</td>\n",
       "      <td>pounds</td>\n",
       "      <td>2.03</td>\n",
       "    </tr>\n",
       "    <tr>\n",
       "      <th>3</th>\n",
       "      <td>Asparagus</td>\n",
       "      <td>Fresh</td>\n",
       "      <td>2.76</td>\n",
       "      <td>per pound</td>\n",
       "      <td>0.49</td>\n",
       "      <td>0.40</td>\n",
       "      <td>pounds</td>\n",
       "      <td>2.22</td>\n",
       "    </tr>\n",
       "    <tr>\n",
       "      <th>4</th>\n",
       "      <td>Asparagus</td>\n",
       "      <td>Canned</td>\n",
       "      <td>3.13</td>\n",
       "      <td>per pound</td>\n",
       "      <td>0.65</td>\n",
       "      <td>0.40</td>\n",
       "      <td>pounds</td>\n",
       "      <td>1.91</td>\n",
       "    </tr>\n",
       "  </tbody>\n",
       "</table>\n",
       "</div>"
      ],
      "text/plain": [
       "      Vegetable    Form  RetailPrice RetailPriceUnit  Yield  \\\n",
       "0  Acorn squash   Fresh         1.18       per pound   0.46   \n",
       "1     Artichoke   Fresh         2.19       per pound   0.38   \n",
       "2     Artichoke  Canned         3.41       per pound   0.65   \n",
       "3     Asparagus   Fresh         2.76       per pound   0.49   \n",
       "4     Asparagus  Canned         3.13       per pound   0.65   \n",
       "\n",
       "   CupEquivalentSize CupEquivalentUnit  CupEquivalentPrice  \n",
       "0               0.45            pounds                1.16  \n",
       "1               0.39            pounds                2.25  \n",
       "2               0.39            pounds                2.03  \n",
       "3               0.40            pounds                2.22  \n",
       "4               0.40            pounds                1.91  "
      ]
     },
     "execution_count": 13,
     "metadata": {},
     "output_type": "execute_result"
    },
    {
     "name": "stdout",
     "output_type": "stream",
     "text": [
      "<class 'pandas.core.frame.DataFrame'>\n",
      "RangeIndex: 93 entries, 0 to 92\n",
      "Data columns (total 8 columns):\n",
      " #   Column              Non-Null Count  Dtype  \n",
      "---  ------              --------------  -----  \n",
      " 0   Vegetable           93 non-null     object \n",
      " 1   Form                93 non-null     object \n",
      " 2   RetailPrice         93 non-null     float64\n",
      " 3   RetailPriceUnit     93 non-null     object \n",
      " 4   Yield               93 non-null     float64\n",
      " 5   CupEquivalentSize   93 non-null     float64\n",
      " 6   CupEquivalentUnit   93 non-null     object \n",
      " 7   CupEquivalentPrice  93 non-null     float64\n",
      "dtypes: float64(4), object(4)\n",
      "memory usage: 5.9+ KB\n"
     ]
    },
    {
     "data": {
      "text/html": [
       "<div>\n",
       "<style scoped>\n",
       "    .dataframe tbody tr th:only-of-type {\n",
       "        vertical-align: middle;\n",
       "    }\n",
       "\n",
       "    .dataframe tbody tr th {\n",
       "        vertical-align: top;\n",
       "    }\n",
       "\n",
       "    .dataframe thead th {\n",
       "        text-align: right;\n",
       "    }\n",
       "</style>\n",
       "<table border=\"1\" class=\"dataframe\">\n",
       "  <thead>\n",
       "    <tr style=\"text-align: right;\">\n",
       "      <th></th>\n",
       "      <th>RetailPrice</th>\n",
       "      <th>Yield</th>\n",
       "      <th>CupEquivalentSize</th>\n",
       "      <th>CupEquivalentPrice</th>\n",
       "    </tr>\n",
       "  </thead>\n",
       "  <tbody>\n",
       "    <tr>\n",
       "      <th>count</th>\n",
       "      <td>93.00</td>\n",
       "      <td>93.00</td>\n",
       "      <td>93.00</td>\n",
       "      <td>93.00</td>\n",
       "    </tr>\n",
       "    <tr>\n",
       "      <th>mean</th>\n",
       "      <td>1.89</td>\n",
       "      <td>0.96</td>\n",
       "      <td>0.34</td>\n",
       "      <td>0.74</td>\n",
       "    </tr>\n",
       "    <tr>\n",
       "      <th>std</th>\n",
       "      <td>1.01</td>\n",
       "      <td>0.50</td>\n",
       "      <td>0.07</td>\n",
       "      <td>0.47</td>\n",
       "    </tr>\n",
       "    <tr>\n",
       "      <th>min</th>\n",
       "      <td>0.67</td>\n",
       "      <td>0.38</td>\n",
       "      <td>0.15</td>\n",
       "      <td>0.20</td>\n",
       "    </tr>\n",
       "    <tr>\n",
       "      <th>25%</th>\n",
       "      <td>1.16</td>\n",
       "      <td>0.65</td>\n",
       "      <td>0.30</td>\n",
       "      <td>0.48</td>\n",
       "    </tr>\n",
       "    <tr>\n",
       "      <th>50%</th>\n",
       "      <td>1.68</td>\n",
       "      <td>0.88</td>\n",
       "      <td>0.34</td>\n",
       "      <td>0.62</td>\n",
       "    </tr>\n",
       "    <tr>\n",
       "      <th>75%</th>\n",
       "      <td>2.19</td>\n",
       "      <td>0.97</td>\n",
       "      <td>0.39</td>\n",
       "      <td>0.85</td>\n",
       "    </tr>\n",
       "    <tr>\n",
       "      <th>max</th>\n",
       "      <td>6.70</td>\n",
       "      <td>2.54</td>\n",
       "      <td>0.54</td>\n",
       "      <td>2.57</td>\n",
       "    </tr>\n",
       "  </tbody>\n",
       "</table>\n",
       "</div>"
      ],
      "text/plain": [
       "       RetailPrice  Yield  CupEquivalentSize  CupEquivalentPrice\n",
       "count        93.00  93.00              93.00               93.00\n",
       "mean          1.89   0.96               0.34                0.74\n",
       "std           1.01   0.50               0.07                0.47\n",
       "min           0.67   0.38               0.15                0.20\n",
       "25%           1.16   0.65               0.30                0.48\n",
       "50%           1.68   0.88               0.34                0.62\n",
       "75%           2.19   0.97               0.39                0.85\n",
       "max           6.70   2.54               0.54                2.57"
      ]
     },
     "execution_count": 13,
     "metadata": {},
     "output_type": "execute_result"
    },
    {
     "data": {
      "text/html": [
       "<div>\n",
       "<style scoped>\n",
       "    .dataframe tbody tr th:only-of-type {\n",
       "        vertical-align: middle;\n",
       "    }\n",
       "\n",
       "    .dataframe tbody tr th {\n",
       "        vertical-align: top;\n",
       "    }\n",
       "\n",
       "    .dataframe thead th {\n",
       "        text-align: right;\n",
       "    }\n",
       "</style>\n",
       "<table border=\"1\" class=\"dataframe\">\n",
       "  <thead>\n",
       "    <tr style=\"text-align: right;\">\n",
       "      <th></th>\n",
       "      <th>Vegetable</th>\n",
       "      <th>Form</th>\n",
       "      <th>RetailPrice</th>\n",
       "      <th>RetailPriceUnit</th>\n",
       "      <th>Yield</th>\n",
       "      <th>CupEquivalentSize</th>\n",
       "      <th>CupEquivalentUnit</th>\n",
       "      <th>CupEquivalentPrice</th>\n",
       "    </tr>\n",
       "  </thead>\n",
       "  <tbody>\n",
       "  </tbody>\n",
       "</table>\n",
       "</div>"
      ],
      "text/plain": [
       "Empty DataFrame\n",
       "Columns: [Vegetable, Form, RetailPrice, RetailPriceUnit, Yield, CupEquivalentSize, CupEquivalentUnit, CupEquivalentPrice]\n",
       "Index: []"
      ]
     },
     "execution_count": 13,
     "metadata": {},
     "output_type": "execute_result"
    }
   ],
   "source": [
    "# Vegetables data\n",
    "df_vegetables = df_vegetables.round(2)\n",
    "df_vegetables.head(5)\n",
    "df_vegetables.info()\n",
    "df_vegetables.describe().round(2)\n",
    "df_vegetables[df_vegetables.duplicated()]"
   ]
  },
  {
   "cell_type": "markdown",
   "metadata": {},
   "source": [
    "There's no missing or invalid values. Data contains 93 types of vegetables, recorded with cup equivalent size and price.\n",
    "Vegetables cost ranged from 20 cents to $2.58 per cup equivalent."
   ]
  },
  {
   "cell_type": "markdown",
   "metadata": {},
   "source": [
    "### Fruit costs per cup equivalent"
   ]
  },
  {
   "cell_type": "code",
   "execution_count": 118,
   "metadata": {},
   "outputs": [
    {
     "name": "stderr",
     "output_type": "stream",
     "text": [
      "/var/folders/z5/k3skf7xd47v_kpnz3xlnx3940000gn/T/ipykernel_2837/3507558406.py:2: FutureWarning: The default of observed=False is deprecated and will be changed to True in a future version of pandas. Pass observed=False to retain current behavior or observed=True to adopt the future default and silence this warning.\n",
      "  group_fruits = df_fruits.groupby(pd.cut(df_fruits[\"CupEquivalentPrice\"], [0.20, 0.39, 0.79, 1.19, 1.59, 3.08]))[\"Fruit\"].count()\n"
     ]
    },
    {
     "data": {
      "text/html": [
       "<div>\n",
       "<style scoped>\n",
       "    .dataframe tbody tr th:only-of-type {\n",
       "        vertical-align: middle;\n",
       "    }\n",
       "\n",
       "    .dataframe tbody tr th {\n",
       "        vertical-align: top;\n",
       "    }\n",
       "\n",
       "    .dataframe thead th {\n",
       "        text-align: right;\n",
       "    }\n",
       "</style>\n",
       "<table border=\"1\" class=\"dataframe\">\n",
       "  <thead>\n",
       "    <tr style=\"text-align: right;\">\n",
       "      <th></th>\n",
       "      <th>CupEquivalentPrice</th>\n",
       "      <th>Fruit</th>\n",
       "    </tr>\n",
       "  </thead>\n",
       "  <tbody>\n",
       "    <tr>\n",
       "      <th>0</th>\n",
       "      <td>(0.2, 0.39]</td>\n",
       "      <td>7</td>\n",
       "    </tr>\n",
       "    <tr>\n",
       "      <th>1</th>\n",
       "      <td>(0.39, 0.79]</td>\n",
       "      <td>21</td>\n",
       "    </tr>\n",
       "    <tr>\n",
       "      <th>2</th>\n",
       "      <td>(0.79, 1.19]</td>\n",
       "      <td>21</td>\n",
       "    </tr>\n",
       "    <tr>\n",
       "      <th>3</th>\n",
       "      <td>(1.19, 1.59]</td>\n",
       "      <td>10</td>\n",
       "    </tr>\n",
       "    <tr>\n",
       "      <th>4</th>\n",
       "      <td>(1.59, 3.08]</td>\n",
       "      <td>3</td>\n",
       "    </tr>\n",
       "  </tbody>\n",
       "</table>\n",
       "</div>"
      ],
      "text/plain": [
       "  CupEquivalentPrice  Fruit\n",
       "0        (0.2, 0.39]      7\n",
       "1       (0.39, 0.79]     21\n",
       "2       (0.79, 1.19]     21\n",
       "3       (1.19, 1.59]     10\n",
       "4       (1.59, 3.08]      3"
      ]
     },
     "execution_count": 118,
     "metadata": {},
     "output_type": "execute_result"
    }
   ],
   "source": [
    "# Group fruits based on price, with increaments of 40 cents\n",
    "group_fruits = df_fruits.groupby(pd.cut(df_fruits[\"CupEquivalentPrice\"], [0.20, 0.39, 0.79, 1.19, 1.59, 3.08]))[\"Fruit\"].count()\n",
    "# Create pandas data frame and reset index\n",
    "group_fruits = pd.DataFrame(group_fruits)\n",
    "group_fruits = group_fruits.reset_index(level=['CupEquivalentPrice'])\n",
    "group_fruits"
   ]
  },
  {
   "cell_type": "markdown",
   "metadata": {},
   "source": [
    "Seven out of 62 fresh and processed fruits cost less than 40 cents per cup equivalent in 2023, and another 21 fruits cost less than 80 cents per cup equivalent."
   ]
  },
  {
   "cell_type": "code",
   "execution_count": 117,
   "metadata": {},
   "outputs": [
    {
     "data": {
      "text/plain": [
       "Text(0.5, 0, 'Retail cost per cup equivalent (2023 dollars)')"
      ]
     },
     "execution_count": 117,
     "metadata": {},
     "output_type": "execute_result"
    },
    {
     "data": {
      "text/plain": [
       "Text(0, 0.5, 'No. of fruits')"
      ]
     },
     "execution_count": 117,
     "metadata": {},
     "output_type": "execute_result"
    },
    {
     "data": {
      "text/plain": [
       "[Text(0, 0, '$0.20-0.39'),\n",
       " Text(1, 0, '$0.40-0.79'),\n",
       " Text(2, 0, '$0.80-1.19'),\n",
       " Text(3, 0, '$1.20-1.59'),\n",
       " Text(4, 0, '$1.60-3.08')]"
      ]
     },
     "execution_count": 117,
     "metadata": {},
     "output_type": "execute_result"
    },
    {
     "data": {
      "text/plain": [
       "[<matplotlib.axis.YTick at 0x11aaf46e0>,\n",
       " <matplotlib.axis.YTick at 0x11c220620>,\n",
       " <matplotlib.axis.YTick at 0x11c223a10>,\n",
       " <matplotlib.axis.YTick at 0x11c261a60>,\n",
       " <matplotlib.axis.YTick at 0x11c2624b0>,\n",
       " <matplotlib.axis.YTick at 0x11c262db0>]"
      ]
     },
     "execution_count": 117,
     "metadata": {},
     "output_type": "execute_result"
    },
    {
     "data": {
      "text/plain": [
       "[Text(0, 0, '7'),\n",
       " Text(0, 0, '21'),\n",
       " Text(0, 0, '21'),\n",
       " Text(0, 0, '10'),\n",
       " Text(0, 0, '3')]"
      ]
     },
     "execution_count": 117,
     "metadata": {},
     "output_type": "execute_result"
    },
    {
     "data": {
      "image/png": "[encoded data removed]",
      "text/plain": [
       "<Figure size 640x480 with 1 Axes>"
      ]
     },
     "metadata": {},
     "output_type": "display_data"
    }
   ],
   "source": [
    "# Visualization\n",
    "\n",
    "ax = group_fruits.plot.bar(color=\"firebrick\",legend=False,title=\"The average cost of fruit in 2023\",grid=False)\n",
    "\n",
    "# Customize the plot\n",
    "ax.set_xlabel(\"Retail cost per cup equivalent (2023 dollars)\")\n",
    "ax.set_ylabel(\"No. of fruits\")\n",
    "ax.set_xticklabels(['$0.20-0.39','$0.40-0.79','$0.80-1.19','$1.20-1.59','$1.60-3.08'],rotation=0)\n",
    "ax.set_yticks([0,5,10,15,20,25])\n",
    "ax.bar_label(ax.containers[0])"
   ]
  },
  {
   "cell_type": "markdown",
   "metadata": {},
   "source": [
    "#### Takeaway\n",
    "According to the guidelines, 2-cup-fruit daily recommendation can be achived at as little cost as $0.40-0.80 with 7 options or $0.80-1.60 with an extra 21 options to choose from."
   ]
  },
  {
   "cell_type": "markdown",
   "metadata": {},
   "source": [
    "#### Get to know the right types of fruits"
   ]
  },
  {
   "cell_type": "code",
   "execution_count": 120,
   "metadata": {},
   "outputs": [
    {
     "data": {
      "text/html": [
       "<div>\n",
       "<style scoped>\n",
       "    .dataframe tbody tr th:only-of-type {\n",
       "        vertical-align: middle;\n",
       "    }\n",
       "\n",
       "    .dataframe tbody tr th {\n",
       "        vertical-align: top;\n",
       "    }\n",
       "\n",
       "    .dataframe thead th {\n",
       "        text-align: right;\n",
       "    }\n",
       "</style>\n",
       "<table border=\"1\" class=\"dataframe\">\n",
       "  <thead>\n",
       "    <tr style=\"text-align: right;\">\n",
       "      <th></th>\n",
       "      <th>Fruit</th>\n",
       "      <th>Form</th>\n",
       "      <th>RetailPrice</th>\n",
       "      <th>RetailPriceUnit</th>\n",
       "      <th>Yield</th>\n",
       "      <th>CupEquivalentSize</th>\n",
       "      <th>CupEquivalentUnit</th>\n",
       "      <th>CupEquivalentPrice</th>\n",
       "    </tr>\n",
       "  </thead>\n",
       "  <tbody>\n",
       "    <tr>\n",
       "      <th>16</th>\n",
       "      <td>Cherries, packed in syrup or water</td>\n",
       "      <td>Canned</td>\n",
       "      <td>4.53</td>\n",
       "      <td>per pound</td>\n",
       "      <td>0.65</td>\n",
       "      <td>0.44</td>\n",
       "      <td>pounds</td>\n",
       "      <td>3.07</td>\n",
       "    </tr>\n",
       "    <tr>\n",
       "      <th>57</th>\n",
       "      <td>Raspberries</td>\n",
       "      <td>Fresh</td>\n",
       "      <td>6.64</td>\n",
       "      <td>per pound</td>\n",
       "      <td>0.96</td>\n",
       "      <td>0.32</td>\n",
       "      <td>pounds</td>\n",
       "      <td>2.21</td>\n",
       "    </tr>\n",
       "    <tr>\n",
       "      <th>10</th>\n",
       "      <td>Blackberries</td>\n",
       "      <td>Fresh</td>\n",
       "      <td>6.02</td>\n",
       "      <td>per pound</td>\n",
       "      <td>0.96</td>\n",
       "      <td>0.32</td>\n",
       "      <td>pounds</td>\n",
       "      <td>2.00</td>\n",
       "    </tr>\n",
       "  </tbody>\n",
       "</table>\n",
       "</div>"
      ],
      "text/plain": [
       "                                 Fruit    Form  RetailPrice RetailPriceUnit  \\\n",
       "16  Cherries, packed in syrup or water  Canned         4.53       per pound   \n",
       "57                         Raspberries   Fresh         6.64       per pound   \n",
       "10                        Blackberries   Fresh         6.02       per pound   \n",
       "\n",
       "    Yield  CupEquivalentSize CupEquivalentUnit  CupEquivalentPrice  \n",
       "16   0.65               0.44            pounds                3.07  \n",
       "57   0.96               0.32            pounds                2.21  \n",
       "10   0.96               0.32            pounds                2.00  "
      ]
     },
     "execution_count": 120,
     "metadata": {},
     "output_type": "execute_result"
    }
   ],
   "source": [
    "# Find the most expensive fruits\n",
    "df_fruits.sort_values(by=['CupEquivalentPrice'], ascending=False).head(3)"
   ]
  },
  {
   "cell_type": "markdown",
   "metadata": {},
   "source": [
    "Cherries, raspberries and blackberries are at higher price points, ranging from $2.00-3.07 per cup equivalent."
   ]
  },
  {
   "cell_type": "code",
   "execution_count": 121,
   "metadata": {},
   "outputs": [
    {
     "data": {
      "text/html": [
       "<div>\n",
       "<style scoped>\n",
       "    .dataframe tbody tr th:only-of-type {\n",
       "        vertical-align: middle;\n",
       "    }\n",
       "\n",
       "    .dataframe tbody tr th {\n",
       "        vertical-align: top;\n",
       "    }\n",
       "\n",
       "    .dataframe thead th {\n",
       "        text-align: right;\n",
       "    }\n",
       "</style>\n",
       "<table border=\"1\" class=\"dataframe\">\n",
       "  <thead>\n",
       "    <tr style=\"text-align: right;\">\n",
       "      <th></th>\n",
       "      <th>Fruit</th>\n",
       "      <th>Form</th>\n",
       "      <th>RetailPrice</th>\n",
       "      <th>RetailPriceUnit</th>\n",
       "      <th>Yield</th>\n",
       "      <th>CupEquivalentSize</th>\n",
       "      <th>CupEquivalentUnit</th>\n",
       "      <th>CupEquivalentPrice</th>\n",
       "    </tr>\n",
       "  </thead>\n",
       "  <tbody>\n",
       "    <tr>\n",
       "      <th>2</th>\n",
       "      <td>Apples, ready-to-drink</td>\n",
       "      <td>Juice</td>\n",
       "      <td>0.78</td>\n",
       "      <td>per pint</td>\n",
       "      <td>1.00</td>\n",
       "      <td>8.00</td>\n",
       "      <td>fluid ounces</td>\n",
       "      <td>0.39</td>\n",
       "    </tr>\n",
       "    <tr>\n",
       "      <th>36</th>\n",
       "      <td>Oranges, frozen concentrate</td>\n",
       "      <td>Juice</td>\n",
       "      <td>0.77</td>\n",
       "      <td>per pint</td>\n",
       "      <td>1.00</td>\n",
       "      <td>8.00</td>\n",
       "      <td>fluid ounces</td>\n",
       "      <td>0.38</td>\n",
       "    </tr>\n",
       "    <tr>\n",
       "      <th>28</th>\n",
       "      <td>Grapes, frozen concentrate</td>\n",
       "      <td>Juice</td>\n",
       "      <td>0.71</td>\n",
       "      <td>per pint</td>\n",
       "      <td>1.00</td>\n",
       "      <td>8.00</td>\n",
       "      <td>fluid ounces</td>\n",
       "      <td>0.36</td>\n",
       "    </tr>\n",
       "    <tr>\n",
       "      <th>51</th>\n",
       "      <td>Pineapple, frozen concentrate</td>\n",
       "      <td>Juice</td>\n",
       "      <td>0.70</td>\n",
       "      <td>per pint</td>\n",
       "      <td>1.00</td>\n",
       "      <td>8.00</td>\n",
       "      <td>fluid ounces</td>\n",
       "      <td>0.35</td>\n",
       "    </tr>\n",
       "    <tr>\n",
       "      <th>3</th>\n",
       "      <td>Apples, frozen concentrate</td>\n",
       "      <td>Juice</td>\n",
       "      <td>0.59</td>\n",
       "      <td>per pint</td>\n",
       "      <td>1.00</td>\n",
       "      <td>8.00</td>\n",
       "      <td>fluid ounces</td>\n",
       "      <td>0.29</td>\n",
       "    </tr>\n",
       "    <tr>\n",
       "      <th>8</th>\n",
       "      <td>Bananas</td>\n",
       "      <td>Fresh</td>\n",
       "      <td>0.52</td>\n",
       "      <td>per pound</td>\n",
       "      <td>0.64</td>\n",
       "      <td>0.33</td>\n",
       "      <td>pounds</td>\n",
       "      <td>0.27</td>\n",
       "    </tr>\n",
       "    <tr>\n",
       "      <th>61</th>\n",
       "      <td>Watermelon</td>\n",
       "      <td>Fresh</td>\n",
       "      <td>0.36</td>\n",
       "      <td>per pound</td>\n",
       "      <td>0.52</td>\n",
       "      <td>0.33</td>\n",
       "      <td>pounds</td>\n",
       "      <td>0.23</td>\n",
       "    </tr>\n",
       "  </tbody>\n",
       "</table>\n",
       "</div>"
      ],
      "text/plain": [
       "                            Fruit   Form  RetailPrice RetailPriceUnit  Yield  \\\n",
       "2          Apples, ready-to-drink  Juice         0.78        per pint   1.00   \n",
       "36    Oranges, frozen concentrate  Juice         0.77        per pint   1.00   \n",
       "28     Grapes, frozen concentrate  Juice         0.71        per pint   1.00   \n",
       "51  Pineapple, frozen concentrate  Juice         0.70        per pint   1.00   \n",
       "3      Apples, frozen concentrate  Juice         0.59        per pint   1.00   \n",
       "8                         Bananas  Fresh         0.52       per pound   0.64   \n",
       "61                     Watermelon  Fresh         0.36       per pound   0.52   \n",
       "\n",
       "    CupEquivalentSize CupEquivalentUnit  CupEquivalentPrice  \n",
       "2                8.00      fluid ounces                0.39  \n",
       "36               8.00      fluid ounces                0.38  \n",
       "28               8.00      fluid ounces                0.36  \n",
       "51               8.00      fluid ounces                0.35  \n",
       "3                8.00      fluid ounces                0.29  \n",
       "8                0.33            pounds                0.27  \n",
       "61               0.33            pounds                0.23  "
      ]
     },
     "execution_count": 121,
     "metadata": {},
     "output_type": "execute_result"
    }
   ],
   "source": [
    "# Find the least expensive fruits\n",
    "df_fruits.sort_values(by=['CupEquivalentPrice'], ascending=False).tail(7)"
   ]
  },
  {
   "cell_type": "markdown",
   "metadata": {},
   "source": [
    "Fresh bananas and watermelon are the healthiest and most affordable fruits, at 23 to 27 cents per cup equivalent. There are cheaper options, like apples or orange juice. However, they are processed, lacked of dietary fiber, packed with sugar and are less encouraged."
   ]
  },
  {
   "cell_type": "markdown",
   "metadata": {},
   "source": [
    "### Vegetable costs per cup equivalent"
   ]
  },
  {
   "cell_type": "code",
   "execution_count": 125,
   "metadata": {},
   "outputs": [
    {
     "name": "stderr",
     "output_type": "stream",
     "text": [
      "/var/folders/z5/k3skf7xd47v_kpnz3xlnx3940000gn/T/ipykernel_2837/181655245.py:2: FutureWarning: The default of observed=False is deprecated and will be changed to True in a future version of pandas. Pass observed=False to retain current behavior or observed=True to adopt the future default and silence this warning.\n",
      "  group_vegetables = df_vegetables.groupby(pd.cut(df_vegetables[\"CupEquivalentPrice\"], [0.19, 0.39, 0.79, 1.19, 1.59, 2.58]))[\"Vegetable\"].count()\n"
     ]
    },
    {
     "data": {
      "text/html": [
       "<div>\n",
       "<style scoped>\n",
       "    .dataframe tbody tr th:only-of-type {\n",
       "        vertical-align: middle;\n",
       "    }\n",
       "\n",
       "    .dataframe tbody tr th {\n",
       "        vertical-align: top;\n",
       "    }\n",
       "\n",
       "    .dataframe thead th {\n",
       "        text-align: right;\n",
       "    }\n",
       "</style>\n",
       "<table border=\"1\" class=\"dataframe\">\n",
       "  <thead>\n",
       "    <tr style=\"text-align: right;\">\n",
       "      <th></th>\n",
       "      <th>CupEquivalentPrice</th>\n",
       "      <th>Vegetable</th>\n",
       "    </tr>\n",
       "  </thead>\n",
       "  <tbody>\n",
       "    <tr>\n",
       "      <th>0</th>\n",
       "      <td>(0.19, 0.39]</td>\n",
       "      <td>17</td>\n",
       "    </tr>\n",
       "    <tr>\n",
       "      <th>1</th>\n",
       "      <td>(0.39, 0.79]</td>\n",
       "      <td>48</td>\n",
       "    </tr>\n",
       "    <tr>\n",
       "      <th>2</th>\n",
       "      <td>(0.79, 1.19]</td>\n",
       "      <td>18</td>\n",
       "    </tr>\n",
       "    <tr>\n",
       "      <th>3</th>\n",
       "      <td>(1.19, 1.59]</td>\n",
       "      <td>2</td>\n",
       "    </tr>\n",
       "    <tr>\n",
       "      <th>4</th>\n",
       "      <td>(1.59, 2.58]</td>\n",
       "      <td>8</td>\n",
       "    </tr>\n",
       "  </tbody>\n",
       "</table>\n",
       "</div>"
      ],
      "text/plain": [
       "  CupEquivalentPrice  Vegetable\n",
       "0       (0.19, 0.39]         17\n",
       "1       (0.39, 0.79]         48\n",
       "2       (0.79, 1.19]         18\n",
       "3       (1.19, 1.59]          2\n",
       "4       (1.59, 2.58]          8"
      ]
     },
     "execution_count": 125,
     "metadata": {},
     "output_type": "execute_result"
    }
   ],
   "source": [
    "# Group vegetables based on price, with increaments of 40 cents\n",
    "group_vegetables = df_vegetables.groupby(pd.cut(df_vegetables[\"CupEquivalentPrice\"], [0.19, 0.39, 0.79, 1.19, 1.59, 2.58]))[\"Vegetable\"].count()\n",
    "# Create pandas data frame and reset index\n",
    "group_vegetables = pd.DataFrame(group_vegetables)\n",
    "group_vegetables = group_vegetables.reset_index(level=['CupEquivalentPrice'])\n",
    "group_vegetables"
   ]
  },
  {
   "cell_type": "markdown",
   "metadata": {},
   "source": [
    "17 out of 93 vegetables cost less than 40 cents per cup equivalent in 2023, and another 48 fruits cost less than 80 cents per cup equivalent."
   ]
  },
  {
   "cell_type": "code",
   "execution_count": 126,
   "metadata": {},
   "outputs": [
    {
     "data": {
      "text/plain": [
       "Text(0.5, 0, 'Retail cost per cup equivalent (2023 dollars)')"
      ]
     },
     "execution_count": 126,
     "metadata": {},
     "output_type": "execute_result"
    },
    {
     "data": {
      "text/plain": [
       "Text(0, 0.5, 'No. of vegetables')"
      ]
     },
     "execution_count": 126,
     "metadata": {},
     "output_type": "execute_result"
    },
    {
     "data": {
      "text/plain": [
       "[Text(0, 0, '$0.19-0.39'),\n",
       " Text(1, 0, '$0.40-0.79'),\n",
       " Text(2, 0, '$0.80-1.19'),\n",
       " Text(3, 0, '$1.20-1.59'),\n",
       " Text(4, 0, '$1.60-2.58')]"
      ]
     },
     "execution_count": 126,
     "metadata": {},
     "output_type": "execute_result"
    },
    {
     "data": {
      "text/plain": [
       "[<matplotlib.axis.YTick at 0x11c215df0>,\n",
       " <matplotlib.axis.YTick at 0x11c215cd0>,\n",
       " <matplotlib.axis.YTick at 0x11aed42c0>,\n",
       " <matplotlib.axis.YTick at 0x11c13e240>,\n",
       " <matplotlib.axis.YTick at 0x11c2d25d0>,\n",
       " <matplotlib.axis.YTick at 0x11c2d2f00>]"
      ]
     },
     "execution_count": 126,
     "metadata": {},
     "output_type": "execute_result"
    },
    {
     "data": {
      "text/plain": [
       "[Text(0, 0, '17'),\n",
       " Text(0, 0, '48'),\n",
       " Text(0, 0, '18'),\n",
       " Text(0, 0, '2'),\n",
       " Text(0, 0, '8')]"
      ]
     },
     "execution_count": 126,
     "metadata": {},
     "output_type": "execute_result"
    },
    {
     "data": {
      "image/png": "[encoded data removed]",
      "text/plain": [
       "<Figure size 640x480 with 1 Axes>"
      ]
     },
     "metadata": {},
     "output_type": "display_data"
    }
   ],
   "source": [
    "# Visualization\n",
    "ax = group_vegetables.plot.bar(color=\"olivedrab\",legend=False,title=\"The average cost of vegetable in 2023\",grid=False)\n",
    "\n",
    "# Customize the plot\n",
    "ax.set_xlabel(\"Retail cost per cup equivalent (2023 dollars)\")\n",
    "ax.set_ylabel(\"No. of vegetables\")\n",
    "ax.set_xticklabels(['$0.19-0.39','$0.40-0.79','$0.80-1.19','$1.20-1.59','$1.60-2.58'],rotation=0)\n",
    "ax.set_yticks([0,10,20,30,40,50])\n",
    "ax.bar_label(ax.containers[0])"
   ]
  },
  {
   "cell_type": "markdown",
   "metadata": {},
   "source": [
    "#### Takeaway\n",
    "Based on the guidelines, 2.5-cup-vegetable daily recommendation can be obtained at as little cost as $0.40-0.80 with 17 options or $0.80-1.60 with an extra 48 options."
   ]
  },
  {
   "cell_type": "markdown",
   "metadata": {},
   "source": [
    "#### Get to know the right types of vegetables"
   ]
  },
  {
   "cell_type": "code",
   "execution_count": 127,
   "metadata": {},
   "outputs": [
    {
     "data": {
      "text/html": [
       "<div>\n",
       "<style scoped>\n",
       "    .dataframe tbody tr th:only-of-type {\n",
       "        vertical-align: middle;\n",
       "    }\n",
       "\n",
       "    .dataframe tbody tr th {\n",
       "        vertical-align: top;\n",
       "    }\n",
       "\n",
       "    .dataframe thead th {\n",
       "        text-align: right;\n",
       "    }\n",
       "</style>\n",
       "<table border=\"1\" class=\"dataframe\">\n",
       "  <thead>\n",
       "    <tr style=\"text-align: right;\">\n",
       "      <th></th>\n",
       "      <th>Vegetable</th>\n",
       "      <th>Form</th>\n",
       "      <th>RetailPrice</th>\n",
       "      <th>RetailPriceUnit</th>\n",
       "      <th>Yield</th>\n",
       "      <th>CupEquivalentSize</th>\n",
       "      <th>CupEquivalentUnit</th>\n",
       "      <th>CupEquivalentPrice</th>\n",
       "    </tr>\n",
       "  </thead>\n",
       "  <tbody>\n",
       "    <tr>\n",
       "      <th>5</th>\n",
       "      <td>Asparagus</td>\n",
       "      <td>Frozen</td>\n",
       "      <td>6.70</td>\n",
       "      <td>per pound</td>\n",
       "      <td>1.03</td>\n",
       "      <td>0.40</td>\n",
       "      <td>pounds</td>\n",
       "      <td>2.57</td>\n",
       "    </tr>\n",
       "    <tr>\n",
       "      <th>1</th>\n",
       "      <td>Artichoke</td>\n",
       "      <td>Fresh</td>\n",
       "      <td>2.19</td>\n",
       "      <td>per pound</td>\n",
       "      <td>0.38</td>\n",
       "      <td>0.39</td>\n",
       "      <td>pounds</td>\n",
       "      <td>2.25</td>\n",
       "    </tr>\n",
       "    <tr>\n",
       "      <th>3</th>\n",
       "      <td>Asparagus</td>\n",
       "      <td>Fresh</td>\n",
       "      <td>2.76</td>\n",
       "      <td>per pound</td>\n",
       "      <td>0.49</td>\n",
       "      <td>0.40</td>\n",
       "      <td>pounds</td>\n",
       "      <td>2.22</td>\n",
       "    </tr>\n",
       "    <tr>\n",
       "      <th>2</th>\n",
       "      <td>Artichoke</td>\n",
       "      <td>Canned</td>\n",
       "      <td>3.41</td>\n",
       "      <td>per pound</td>\n",
       "      <td>0.65</td>\n",
       "      <td>0.39</td>\n",
       "      <td>pounds</td>\n",
       "      <td>2.03</td>\n",
       "    </tr>\n",
       "    <tr>\n",
       "      <th>4</th>\n",
       "      <td>Asparagus</td>\n",
       "      <td>Canned</td>\n",
       "      <td>3.13</td>\n",
       "      <td>per pound</td>\n",
       "      <td>0.65</td>\n",
       "      <td>0.40</td>\n",
       "      <td>pounds</td>\n",
       "      <td>1.91</td>\n",
       "    </tr>\n",
       "    <tr>\n",
       "      <th>68</th>\n",
       "      <td>Okra</td>\n",
       "      <td>Fresh</td>\n",
       "      <td>3.98</td>\n",
       "      <td>per pound</td>\n",
       "      <td>0.77</td>\n",
       "      <td>0.35</td>\n",
       "      <td>pounds</td>\n",
       "      <td>1.82</td>\n",
       "    </tr>\n",
       "    <tr>\n",
       "      <th>70</th>\n",
       "      <td>Olives</td>\n",
       "      <td>Canned</td>\n",
       "      <td>5.77</td>\n",
       "      <td>per pound</td>\n",
       "      <td>1.00</td>\n",
       "      <td>0.30</td>\n",
       "      <td>pounds</td>\n",
       "      <td>1.72</td>\n",
       "    </tr>\n",
       "    <tr>\n",
       "      <th>85</th>\n",
       "      <td>Tomatoes, grape &amp; cherry</td>\n",
       "      <td>Fresh</td>\n",
       "      <td>4.15</td>\n",
       "      <td>per pound</td>\n",
       "      <td>0.91</td>\n",
       "      <td>0.37</td>\n",
       "      <td>pounds</td>\n",
       "      <td>1.71</td>\n",
       "    </tr>\n",
       "  </tbody>\n",
       "</table>\n",
       "</div>"
      ],
      "text/plain": [
       "                   Vegetable    Form  RetailPrice RetailPriceUnit  Yield  \\\n",
       "5                  Asparagus  Frozen         6.70       per pound   1.03   \n",
       "1                  Artichoke   Fresh         2.19       per pound   0.38   \n",
       "3                  Asparagus   Fresh         2.76       per pound   0.49   \n",
       "2                  Artichoke  Canned         3.41       per pound   0.65   \n",
       "4                  Asparagus  Canned         3.13       per pound   0.65   \n",
       "68                      Okra   Fresh         3.98       per pound   0.77   \n",
       "70                    Olives  Canned         5.77       per pound   1.00   \n",
       "85  Tomatoes, grape & cherry   Fresh         4.15       per pound   0.91   \n",
       "\n",
       "    CupEquivalentSize CupEquivalentUnit  CupEquivalentPrice  \n",
       "5                0.40            pounds                2.57  \n",
       "1                0.39            pounds                2.25  \n",
       "3                0.40            pounds                2.22  \n",
       "2                0.39            pounds                2.03  \n",
       "4                0.40            pounds                1.91  \n",
       "68               0.35            pounds                1.82  \n",
       "70               0.30            pounds                1.72  \n",
       "85               0.37            pounds                1.71  "
      ]
     },
     "execution_count": 127,
     "metadata": {},
     "output_type": "execute_result"
    }
   ],
   "source": [
    "# Find the most expensive vegetables\n",
    "df_vegetables.sort_values(by=['CupEquivalentPrice'], ascending=False).head(8)"
   ]
  },
  {
   "cell_type": "markdown",
   "metadata": {},
   "source": [
    "Asparagus and artichoke, either fresh or canned, are amongst the most expensive vegetables."
   ]
  },
  {
   "cell_type": "code",
   "execution_count": 128,
   "metadata": {},
   "outputs": [
    {
     "data": {
      "text/html": [
       "<div>\n",
       "<style scoped>\n",
       "    .dataframe tbody tr th:only-of-type {\n",
       "        vertical-align: middle;\n",
       "    }\n",
       "\n",
       "    .dataframe tbody tr th {\n",
       "        vertical-align: top;\n",
       "    }\n",
       "\n",
       "    .dataframe thead th {\n",
       "        text-align: right;\n",
       "    }\n",
       "</style>\n",
       "<table border=\"1\" class=\"dataframe\">\n",
       "  <thead>\n",
       "    <tr style=\"text-align: right;\">\n",
       "      <th></th>\n",
       "      <th>Vegetable</th>\n",
       "      <th>Form</th>\n",
       "      <th>RetailPrice</th>\n",
       "      <th>RetailPriceUnit</th>\n",
       "      <th>Yield</th>\n",
       "      <th>CupEquivalentSize</th>\n",
       "      <th>CupEquivalentUnit</th>\n",
       "      <th>CupEquivalentPrice</th>\n",
       "    </tr>\n",
       "  </thead>\n",
       "  <tbody>\n",
       "    <tr>\n",
       "      <th>52</th>\n",
       "      <td>Lettuce, iceberg</td>\n",
       "      <td>Fresh</td>\n",
       "      <td>1.00</td>\n",
       "      <td>per pound</td>\n",
       "      <td>0.95</td>\n",
       "      <td>0.24</td>\n",
       "      <td>pounds</td>\n",
       "      <td>0.25</td>\n",
       "    </tr>\n",
       "    <tr>\n",
       "      <th>67</th>\n",
       "      <td>Navy beans</td>\n",
       "      <td>Dried</td>\n",
       "      <td>1.49</td>\n",
       "      <td>per pound</td>\n",
       "      <td>2.47</td>\n",
       "      <td>0.39</td>\n",
       "      <td>pounds</td>\n",
       "      <td>0.23</td>\n",
       "    </tr>\n",
       "    <tr>\n",
       "      <th>74</th>\n",
       "      <td>Potatoes</td>\n",
       "      <td>Fresh</td>\n",
       "      <td>0.67</td>\n",
       "      <td>per pound</td>\n",
       "      <td>0.81</td>\n",
       "      <td>0.26</td>\n",
       "      <td>pounds</td>\n",
       "      <td>0.22</td>\n",
       "    </tr>\n",
       "    <tr>\n",
       "      <th>9</th>\n",
       "      <td>Black beans</td>\n",
       "      <td>Dried</td>\n",
       "      <td>1.38</td>\n",
       "      <td>per pound</td>\n",
       "      <td>2.47</td>\n",
       "      <td>0.39</td>\n",
       "      <td>pounds</td>\n",
       "      <td>0.21</td>\n",
       "    </tr>\n",
       "    <tr>\n",
       "      <th>73</th>\n",
       "      <td>Pinto beans</td>\n",
       "      <td>Dried</td>\n",
       "      <td>1.29</td>\n",
       "      <td>per pound</td>\n",
       "      <td>2.47</td>\n",
       "      <td>0.39</td>\n",
       "      <td>pounds</td>\n",
       "      <td>0.20</td>\n",
       "    </tr>\n",
       "  </tbody>\n",
       "</table>\n",
       "</div>"
      ],
      "text/plain": [
       "           Vegetable   Form  RetailPrice RetailPriceUnit  Yield  \\\n",
       "52  Lettuce, iceberg  Fresh         1.00       per pound   0.95   \n",
       "67        Navy beans  Dried         1.49       per pound   2.47   \n",
       "74          Potatoes  Fresh         0.67       per pound   0.81   \n",
       "9        Black beans  Dried         1.38       per pound   2.47   \n",
       "73       Pinto beans  Dried         1.29       per pound   2.47   \n",
       "\n",
       "    CupEquivalentSize CupEquivalentUnit  CupEquivalentPrice  \n",
       "52               0.24            pounds                0.25  \n",
       "67               0.39            pounds                0.23  \n",
       "74               0.26            pounds                0.22  \n",
       "9                0.39            pounds                0.21  \n",
       "73               0.39            pounds                0.20  "
      ]
     },
     "execution_count": 128,
     "metadata": {},
     "output_type": "execute_result"
    }
   ],
   "source": [
    "df_vegetables.sort_values(by=['CupEquivalentPrice'], ascending=False).tail(5)"
   ]
  },
  {
   "cell_type": "markdown",
   "metadata": {},
   "source": [
    "On the other hand, dried legumes like navy, black or pinto beans are the most affordable, ranged from 20-23 cents per cup equivalent. Fresh potatoes and iceberg lettuce also fall in the top 5 cheapest vegetables, at repectively 22 cents and 25 cents per cup equivalent."
   ]
  },
  {
   "cell_type": "markdown",
   "metadata": {},
   "source": [
    "### Summary\n",
    "Indicated by the above analysis using 2023 price data, it was still possible for Americans to eat a wide variety of fruits and vegetables that would satisfy USDA *Dietary Guidelines'* recommendations for a person on a 2,000-calorie-per-day diet."
   ]
  },
  {
   "cell_type": "markdown",
   "metadata": {},
   "source": [
    "## References\n",
    "\n",
    "**Data was last updated on 5-23-2024:** \n",
    "\n",
    "+ Fruit and Vegetable Prices by Hayden Stewart and Jeffrey Hyman (2024). Economic Research Service, U.S. Department of Agriculture. <https://www.ers.usda.gov/data-products/fruit-and-vegetable-prices/fruit-and-vegetable-prices/#Archived%20Data%20Tables%20for%20Snack%20Substitutions>\n",
    "\n",
    "**See official reports:**\n",
    "\n",
    "-   The Cost of Satisfying Fruit and Vegetable Recommendations in the Dietary Guidelines by Hayden Stewart, Jeffrey Hyman, Andrea Carlson, and Elizabeth Frazão (2016). Economic Research Service, U.S. Department of Agriculture. <https://www.ers.usda.gov/publications/pub-details/?pubid=42904>.\n",
    "\n",
    "-   Americans Still Can Meet Fruit and Vegetable Dietary Guidelines for $2.10-$2.60 per Day by Hayden Stewart and Jeffrey Hyman (2019). Economic Research Service, U.S. Department of Agriculture. <https://www.ers.usda.gov/amber-waves/2019/june/americans-still-can-meet-fruit-and-vegetable-dietary-guidelines-for-2-10-2-60-per-day/>\n",
    "\n"
   ]
  }
 ],
 "metadata": {
  "kernelspec": {
   "display_name": "Python 3",
   "language": "python",
   "name": "python3"
  },
  "language_info": {
   "codemirror_mode": {
    "name": "ipython",
    "version": 3
   },
   "file_extension": ".py",
   "mimetype": "text/x-python",
   "name": "python",
   "nbconvert_exporter": "python",
   "pygments_lexer": "ipython3",
   "version": "3.12.3"
  }
 },
 "nbformat": 4,
 "nbformat_minor": 2
}
